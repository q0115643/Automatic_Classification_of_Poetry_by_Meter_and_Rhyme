{
 "cells": [
  {
   "cell_type": "code",
   "execution_count": 143,
   "metadata": {},
   "outputs": [],
   "source": [
    "from xml.etree import ElementTree as ET\n",
    "import os\n",
    "import json\n",
    "import re"
   ]
  },
  {
   "cell_type": "code",
   "execution_count": 144,
   "metadata": {},
   "outputs": [],
   "source": [
    "def getText(a):\n",
    "    text = \"\"\n",
    "    if a.text and a.tag != \"{http://www.tei-c.org/ns/1.0}note\":\n",
    "        text += a.text\n",
    "    for child in a.getchildren():\n",
    "        text += getText(child)\n",
    "    return text"
   ]
  },
  {
   "cell_type": "code",
   "execution_count": 145,
   "metadata": {},
   "outputs": [],
   "source": [
    "def getData(path):\n",
    "    with open(path, 'r', encoding='utf-8') as file:\n",
    "        str_xml = file.read()\n",
    "        str_xml = re.sub('<caesura/>', ' ', str_xml)\n",
    "        str_xml = re.sub('<sb[^>]*>', ' ', str_xml)\n",
    "        str_xml = re.sub('</sb[^>]*>', ' ', str_xml)\n",
    "        str_xml = re.sub('<rhyme[^>]*>', ' ', str_xml)\n",
    "        str_xml = re.sub('</rhyme[^>]*>', ' ', str_xml)\n",
    "        str_xml = re.sub('</seg>', ' </seg>', str_xml)\n",
    "        root = ET.XML(str_xml)\n",
    "        lines = list(root.iter('{http://www.tei-c.org/ns/1.0}l'))\n",
    "        meters = [a.get('met') for a in lines]\n",
    "        reals = [a.get('real') for a in lines]\n",
    "        text = [getText(a).strip() for a in lines]\n",
    "        return list(zip(text, meters, reals))"
   ]
  },
  {
   "cell_type": "code",
   "execution_count": 146,
   "metadata": {},
   "outputs": [
    {
     "name": "stdout",
     "output_type": "stream",
     "text": [
      "data/4B4V_poems/Waller - Song.xml\n",
      "data/4B4V_poems/frost-the-span-of-life.xml\n",
      "data/4B4V_poems/Herrick - Upon Julia's Clothes.xml\n",
      "data/4B4V_poems/Shakespeare - Juliet's Soliloquy.xml\n",
      "data/4B4V_poems/Shakespeare - Juliet's Soliloquoy.xml\n",
      "data/4B4V_poems/Donne - Holy Sonnet 14.xml\n",
      "data/4B4V_poems/Anon - Westron Wynde.xml\n",
      "data/4B4V_poems/Keats - La Belle Dame sans Merci.xml\n",
      "data/4B4V_poems/Shakespeare - Chorus (from Henry the Fifth III.i.1-17).xml\n",
      "data/4B4V_poems/tennyson - idylls of the king.xml\n",
      "data/4B4V_poems/Shakespeare - Prospero Explains.xml\n",
      "data/4B4V_poems/Sidney - 31.xml\n",
      "data/4B4V_poems/Herrick - Upon Julias Clothes.xml\n",
      "data/4B4V_poems/Thomas - The Swifts.xml\n",
      "data/4B4V_poems/Carroll - Jabberwocky.xml\n",
      "data/4B4V_poems/Donne - The Good-Morrow.xml\n",
      "data/4B4V_poems/Blake - The Sick Rose.xml\n",
      "data/4B4V_poems/Shakespeare - 73.xml\n",
      "data/4B4V_poems/Browning - Rhyme for a Child Viewing a Naked Venus in a Painting of 'The Judgment of Paris'.xml\n",
      "data/4B4V_poems/Author - Title.xml\n",
      "data/4B4V_poems/Drayton - 61.xml\n",
      "data/4B4V_poems/Wordsworth - She Dwelt.xml\n",
      "data/4B4V_poems/Frost - The Wood-Pile.xml\n",
      "data/4B4V_poems/Yeats - He Wishes for the Cloths of Heaven.xml\n",
      "data/4B4V_poems/Donne - Holy Sonnet 1.xml\n",
      "data/4B4V_poems/Shakespeare - 29.xml\n",
      "data/4B4V_poems/Pope - Epigram Engraved on the Collar of a Dog Which I Gave to His Royal Highness.xml\n",
      "data/4B4V_poems/Shakespeare - Lear on the Heath.xml\n",
      "data/4B4V_poems/Hardy - The Oxen.xml\n",
      "data/4B4V_poems/Housman - The Night is Freezing Fast.xml\n",
      "data/4B4V_poems/Houseman - The Night is Freazing Fast2.xml\n",
      "data/4B4V_poems/Blake - Ah Sun-flower.xml\n",
      "data/4B4V_poems/Wordsworth - A Slumber Did My Spirit Seal.xml\n",
      "data/4B4V_poems/Wordsworth - from The Prelude.xml\n",
      "data/4B4V_poems/Thomas - She Dotes on What the Wild Birds Say.xml\n",
      "data/4B4V_poems/Hopkins - The Windhover.xml\n",
      "data/4B4V_poems/Shelley - Life of Life.xml\n",
      "data/4B4V_poems/Hardy - I Look Into My Glass.xml\n",
      "data/4B4V_poems/Tennyson - The Kraken.xml\n",
      "data/4B4V_poems/Rossetti - Echo.xml\n",
      "data/4B4V_poems/Campion - My Sweetest Lesbia.xml\n",
      "data/4B4V_poems/Byron - When a Man Hath No Freedom.xml\n",
      "data/4B4V_poems/Frost - In Neglect.xml\n",
      "data/4B4V_poems/test.xml\n",
      "data/4B4V_poems/Dickinson - The Brain Is Wider than the Sky.xml\n",
      "data/4B4V_poems/Tennyson - Enoch Arden.xml\n",
      "data/4B4V_poems/Shelley - Mont Blanc 1-11.xml\n",
      "data/4B4V_poems/Frost - The Span of Life (anapestic).xml\n",
      "data/4B4V_poems/Shakespeare - Full Fathom Five (from The Tempest).xml\n",
      "data/4B4V_poems/Milton - Paradise Lost (IV.222-44).xml\n",
      "data/4B4V_poems/Keats - Hyperion.xml\n",
      "data/4B4V_poems/Wordsworth - A Sonnet.xml\n",
      "data/4B4V_poems/Poet - Title.xml\n",
      "data/4B4V_poems/Landor - Dying Speech of an Old Philosopher.xml\n",
      "data/4B4V_poems/Frost - Mowing.xml\n",
      "data/4B4V_poems/Meynell - Renouncement.xml\n",
      "data/4B4V_poems/Jonson - Though I Am Young and Cannot Tell.xml\n",
      "data/4B4V_poems/Hopkins - Gods Grandeur.xml\n",
      "data/4B4V_poems/Rossetti - Sudden Light.xml\n",
      "data/4B4V_poems/Shakespeare - 18.xml\n",
      "data/4B4V_poems/Hopkins - Heaven-Haven - A Nun Takes the Veil.xml\n",
      "data/4B4V_poems/Jonson - Slow, Slow, Fresh Fount.xml\n",
      "data/4B4V_poems/Shelley - Ozymandias.xml\n",
      "data/4B4V_poems/Pope - Essay on Criticism ll. 362-73.xml\n",
      "data/4B4V_poems/Shelley - Adonais.xml\n",
      "data/4B4V_poems/Coleridge - Kubla Khan.xml\n",
      "data/4B4V_poems/Ralegh - Even Such Is Time.xml\n",
      "data/4B4V_poems/Rossetti - The Lowest Place.xml\n",
      "data/4B4V_poems/Herbert - Jordan.xml\n",
      "data/4B4V_poems/Tennyson - from In Memoriam, section 7.xml\n",
      "data/4B4V_poems/Thomas - Thaw.xml\n",
      "data/4B4V_poems/Browning - Meeting at Night.xml\n",
      "data/4B4V_poems/Owen - Anthem for Doomed Youth.xml\n",
      "data/4B4V_poems/Keats - Bright Star.xml\n",
      "data/4B4V_poems/Coleridge - Metrical Feet.xml\n",
      "data/4B4V_poems/Yeats - To a Friend.xml\n",
      "data/4B4V_poems/Drayton - Since There's No Help.xml\n",
      "data/4B4V_poems/Shelley - Mont Blanc ll. 1-11.xml\n",
      "data/4B4V_poems/Yeats - The Balloon of the Mind.xml\n",
      "data/4B4V_poems/Tennyson - The Eagle.xml\n",
      "data/4B4V_poems/Swinburne - The Roundel.xml\n",
      "data/4B4V_poems/Yeats - The Cold Heaven.xml\n",
      "data/4B4V_poems/Blake - The Tyger.xml\n",
      "data/4B4V_poems/Hopkins - God's Grandeur.xml\n",
      "data/4B4V_poems/Hardy - The Voice.xml\n",
      "data/4B4V_poems/Yeats - The Witch.xml\n",
      "data/4B4V_poems/Milton - On His Blindness.xml\n",
      "data/4B4V_poems/Spenser - Despayre in Praise of Suicide.xml\n"
     ]
    }
   ],
   "source": [
    "result = []\n",
    "\n",
    "for rt, dirs, files in os.walk('data/4B4V_poems'):\n",
    "    for fl in files:\n",
    "        path = os.path.join(rt, fl)\n",
    "        print(path)\n",
    "        result += getData(path)\n",
    "\n",
    "result = [a for index, a in enumerate(result) if a[0] != '']\n"
   ]
  },
  {
   "cell_type": "code",
   "execution_count": 149,
   "metadata": {},
   "outputs": [],
   "source": [
    "with open(os.path.join('data/4B4V', '4B4V.json'), 'w') as f:\n",
    "        f.write(json.dumps(result))"
   ]
  },
  {
   "cell_type": "code",
   "execution_count": 151,
   "metadata": {},
   "outputs": [],
   "source": [
    "import csv\n",
    "f_csv = open('4B4V.csv', 'w', encoding='utf-8', newline='')\n",
    "wr = csv.writer(f_csv)\n",
    "for row in result:\n",
    "    wr.writerow(result)\n",
    "f_csv.close()"
   ]
  },
  {
   "cell_type": "code",
   "execution_count": null,
   "metadata": {},
   "outputs": [],
   "source": []
  }
 ],
 "metadata": {
  "kernelspec": {
   "display_name": "Python [conda env:python3]",
   "language": "python",
   "name": "conda-env-python3-py"
  },
  "language_info": {
   "codemirror_mode": {
    "name": "ipython",
    "version": 3
   },
   "file_extension": ".py",
   "mimetype": "text/x-python",
   "name": "python",
   "nbconvert_exporter": "python",
   "pygments_lexer": "ipython3",
   "version": "3.5.4"
  }
 },
 "nbformat": 4,
 "nbformat_minor": 2
}
