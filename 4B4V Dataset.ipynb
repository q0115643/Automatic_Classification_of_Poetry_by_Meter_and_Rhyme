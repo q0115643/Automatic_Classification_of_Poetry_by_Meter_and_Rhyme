{
 "cells": [
  {
   "cell_type": "code",
   "execution_count": 2,
   "metadata": {},
   "outputs": [],
   "source": [
    "import torch\n",
    "from torch.autograd import Variable\n",
    "from torch.utils.data import Dataset, DataLoader\n",
    "import csv\n",
    "import string\n",
    "\n",
    "all_letters = string.ascii_letters + string.punctuation + \" \"\n",
    "n_letters = len(all_letters)\n",
    "in_length = 80\n",
    "out_length = 15\n",
    "\n",
    "def letterToTensor(letter):\n",
    "    tensor = torch.zeros(1, n_letters)\n",
    "    tensor[0][all_letters.find(letter)] = 1\n",
    "    return tensor\n",
    "\n",
    "def lineToTensor(line):\n",
    "    tensor = torch.zeros(in_length, n_letters)\n",
    "    for li, letter in enumerate(line):\n",
    "        tensor[li][all_letters.find(letter)] = 1\n",
    "    return tensor\n",
    "\n",
    "def syllabusToTensor(line):\n",
    "    tensor = torch.zeros(1, out_length)\n",
    "    for li, letter in enumerate(line):\n",
    "        if letter is '+':\n",
    "            tensor[0][li] = 1\n",
    "    return tensor\n",
    "\n",
    "class MyDataset(Dataset):\n",
    "    def __init__(self):\n",
    "        x = []\n",
    "        y = []\n",
    "        with open('4B4V.csv', newline='') as myFile:  \n",
    "            reader = csv.reader(myFile)\n",
    "            for row in reader:\n",
    "                x.append(lineToTensor(row[0]))\n",
    "                y.append(syllabusToTensor(row[1]))\n",
    "        self.len = len(x)\n",
    "        self.x_data = torch.cat([torch.unsqueeze(a, 0) for a in x])\n",
    "        self.y_data = torch.cat([torch.unsqueeze(a, 0) for a in y])\n",
    "\n",
    "    def __getitem__(self, index):\n",
    "        return self.x_data[index], self.y_data[index]\n",
    "\n",
    "    def __len__(self):\n",
    "        return self.len\n",
    "\n",
    "\n",
    "dataset = MyDataset()\n",
    "train_loader = DataLoader(dataset=dataset,\n",
    "                          batch_size=32,\n",
    "                          shuffle=True)\n",
    "\n",
    "# for i, data in enumerate(train_loader, 0):\n",
    "#     inputs, labels = data\n",
    "#     print(inputs.shape, labels.shape)"
   ]
  },
  {
   "cell_type": "code",
   "execution_count": 4,
   "metadata": {},
   "outputs": [
    {
     "data": {
      "text/plain": [
       "torch.Size([80, 85])"
      ]
     },
     "execution_count": 4,
     "metadata": {},
     "output_type": "execute_result"
    }
   ],
   "source": [
    "a = lineToTensor('this is a lie')\n",
    "a.shape"
   ]
  }
 ],
 "metadata": {
  "kernelspec": {
   "display_name": "Python [default]",
   "language": "python",
   "name": "python3"
  },
  "language_info": {
   "codemirror_mode": {
    "name": "ipython",
    "version": 3
   },
   "file_extension": ".py",
   "mimetype": "text/x-python",
   "name": "python",
   "nbconvert_exporter": "python",
   "pygments_lexer": "ipython3",
   "version": "3.6.5"
  }
 },
 "nbformat": 4,
 "nbformat_minor": 2
}
